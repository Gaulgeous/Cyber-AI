{
 "cells": [
  {
   "cell_type": "code",
   "execution_count": 34,
   "metadata": {},
   "outputs": [],
   "source": [
    "import pandas as pd\n",
    "import numpy as np\n",
    "import plotly.express as px\n",
    "import seaborn as sns\n",
    "import re"
   ]
  },
  {
   "cell_type": "code",
   "execution_count": 45,
   "metadata": {},
   "outputs": [],
   "source": [
    "df = pd.read_csv(r\"/home/david/Documents/Cyber-AI/data/mandarin_radicals.csv\")"
   ]
  },
  {
   "cell_type": "code",
   "execution_count": 46,
   "metadata": {},
   "outputs": [
    {
     "data": {
      "text/html": [
       "<div>\n",
       "<style scoped>\n",
       "    .dataframe tbody tr th:only-of-type {\n",
       "        vertical-align: middle;\n",
       "    }\n",
       "\n",
       "    .dataframe tbody tr th {\n",
       "        vertical-align: top;\n",
       "    }\n",
       "\n",
       "    .dataframe thead th {\n",
       "        text-align: right;\n",
       "    }\n",
       "</style>\n",
       "<table border=\"1\" class=\"dataframe\">\n",
       "  <thead>\n",
       "    <tr style=\"text-align: right;\">\n",
       "      <th></th>\n",
       "      <th>radical</th>\n",
       "      <th>variants</th>\n",
       "      <th>pinyin</th>\n",
       "      <th>learnt</th>\n",
       "    </tr>\n",
       "  </thead>\n",
       "  <tbody>\n",
       "    <tr>\n",
       "      <th>0</th>\n",
       "      <td>一</td>\n",
       "      <td>NaN</td>\n",
       "      <td>yi1</td>\n",
       "      <td>False</td>\n",
       "    </tr>\n",
       "    <tr>\n",
       "      <th>1</th>\n",
       "      <td>丨</td>\n",
       "      <td>NaN</td>\n",
       "      <td>gun3</td>\n",
       "      <td>False</td>\n",
       "    </tr>\n",
       "    <tr>\n",
       "      <th>2</th>\n",
       "      <td>丿</td>\n",
       "      <td>乀 (fu2), 乁(yi2)</td>\n",
       "      <td>pie3</td>\n",
       "      <td>False</td>\n",
       "    </tr>\n",
       "    <tr>\n",
       "      <th>3</th>\n",
       "      <td>乙</td>\n",
       "      <td>乚 (yin3), 乛</td>\n",
       "      <td>yi4</td>\n",
       "      <td>False</td>\n",
       "    </tr>\n",
       "    <tr>\n",
       "      <th>4</th>\n",
       "      <td>亅</td>\n",
       "      <td>NaN</td>\n",
       "      <td>jue2</td>\n",
       "      <td>False</td>\n",
       "    </tr>\n",
       "  </tbody>\n",
       "</table>\n",
       "</div>"
      ],
      "text/plain": [
       "  radical         variants pinyin  learnt\n",
       "0       一              NaN    yi1   False\n",
       "1       丨              NaN   gun3   False\n",
       "2       丿  乀 (fu2), 乁(yi2)   pie3   False\n",
       "3       乙      乚 (yin3), 乛    yi4   False\n",
       "4       亅              NaN   jue2   False"
      ]
     },
     "execution_count": 46,
     "metadata": {},
     "output_type": "execute_result"
    }
   ],
   "source": [
    "df.head()"
   ]
  },
  {
   "cell_type": "code",
   "execution_count": 48,
   "metadata": {},
   "outputs": [
    {
     "name": "stdout",
     "output_type": "stream",
     "text": [
      "Searching word(s):\n",
      "一   yi1\n",
      "Searching word(s):\n",
      "丨   gun3\n",
      "Searching word(s):\n",
      "丿   pie3\n",
      "乀    fu2\n",
      " 乁   yi2\n",
      "Searching word(s):\n",
      "乙   yi4\n",
      "乚    yin3\n",
      " 乛   yi4\n",
      "Searching word(s):\n",
      "亅   jue2\n",
      "Searching word(s):\n",
      "丶   zhu3\n",
      "Searching word(s):\n",
      "二   er4\n",
      "Searching word(s):\n",
      "亠   tou2\n",
      "Searching word(s):\n",
      "人   ren2\n",
      "亻   ren2\n",
      "Searching word(s):\n",
      "儿   er2\n",
      "Searching word(s):\n",
      "入   ru4\n",
      "Searching word(s):\n",
      "八   ba1\n",
      "丷   ba1\n",
      "Searching word(s):\n",
      "冂   jiong3\n",
      "Searching word(s):\n",
      "冖   mi4\n",
      "Searching word(s):\n",
      "冫   bing1\n",
      "Searching word(s):\n",
      "几   ji1\n",
      "Searching word(s):\n",
      "凵   qu3\n",
      "Searching word(s):\n",
      "刀   dao1\n",
      "刂   dao1\n",
      "Searching word(s):\n",
      "力   li4\n",
      "Searching word(s):\n",
      "勹   bao1\n",
      "Searching word(s):\n",
      "匕   bi3\n",
      "Searching word(s):\n",
      "匚   fang1\n",
      "Searching word(s):\n",
      "匸   xi3\n",
      "Searching word(s):\n",
      "十   shi2\n",
      "Searching word(s):\n",
      "卜   bu3\n",
      "Searching word(s):\n",
      "卩   jie2\n",
      "Searching word(s):\n",
      "厂   han4\n",
      "Searching word(s):\n",
      "厶   si1\n",
      "Searching word(s):\n",
      "又   you4\n",
      "Searching word(s):\n",
      "囗   wei2\n",
      "Searching word(s):\n",
      "土   tu3\n",
      "Searching word(s):\n",
      "士   shi4\n",
      "Searching word(s):\n",
      "夂   zhi3 (top)\n",
      "Searching word(s):\n",
      "夊   sui1 (bot­tom)\n",
      "Searching word(s):\n",
      "夕   xi1\n",
      "Searching word(s):\n",
      "大   da4\n",
      "Searching word(s):\n",
      "女   nü3\n",
      "Searching word(s):\n",
      "子   zi3\n",
      "Searching word(s):\n",
      "宀   mian2\n",
      "Searching word(s):\n",
      "寸   cun4\n",
      "Searching word(s):\n",
      "小   xiao3\n",
      "Searching word(s):\n",
      "尢   wang1\n",
      "尣   wang1\n",
      "Searching word(s):\n",
      "尸   shi1\n",
      "Searching word(s):\n",
      "屮   che4\n",
      "Searching word(s):\n",
      "山   shan1\n",
      "Searching word(s):\n",
      "川   chuan1\n",
      "巛   chuan1\n",
      " 巜    gui4\n",
      "Searching word(s):\n",
      "工   gong1\n",
      "Searching word(s):\n",
      "己   ji3\n",
      "Searching word(s):\n",
      "巾   jin1\n",
      "Searching word(s):\n",
      "干   gan1\n",
      "Searching word(s):\n",
      "幺   yao1\n",
      "Searching word(s):\n",
      "口   kou3\n",
      "Searching word(s):\n",
      "广   guan3\n",
      "Searching word(s):\n",
      "廴   yin3\n",
      "Searching word(s):\n",
      "廾   gong3\n",
      "Searching word(s):\n",
      "弋   yi4\n",
      "Searching word(s):\n",
      "弓   gong1\n",
      "Searching word(s):\n",
      "彐   ji4\n",
      "彑   ji4\n",
      "Searching word(s):\n",
      "彡   shan1\n",
      "Searching word(s):\n",
      "彳   chi4\n",
      "Searching word(s):\n",
      "心   xin1\n",
      "忄   xin1\n",
      "Searching word(s):\n",
      "戈   ge1\n",
      "Searching word(s):\n",
      "戶   hu4\n",
      "Searching word(s):\n",
      "手   shou3\n",
      "扌   shou3\n",
      "Searching word(s):\n",
      "支   zhi1\n",
      "Searching word(s):\n",
      "攴   pu1\n",
      "攵   pu1\n",
      "Searching word(s):\n",
      "文   wen2\n",
      "Searching word(s):\n",
      "斗   dou3\n",
      "Searching word(s):\n",
      "斤   jin1\n",
      "Searching word(s):\n",
      "方   fang1\n",
      "Searching word(s):\n",
      "无   wu2\n",
      "Searching word(s):\n",
      "日   ri4\n",
      "Searching word(s):\n",
      "曰   yue1\n",
      "Searching word(s):\n",
      "月   yue4\n",
      "Searching word(s):\n",
      "木   mu4\n",
      "Searching word(s):\n",
      "欠   qian4\n",
      "Searching word(s):\n",
      "止   zhi3\n",
      "Searching word(s):\n",
      "殳   shu1\n",
      "Searching word(s):\n",
      "毋   wu2\n",
      "Searching word(s):\n",
      "比   bi3\n",
      "Searching word(s):\n",
      "毛   mao2\n",
      "Searching word(s):\n",
      "氏   shi4\n",
      "Searching word(s):\n",
      "气   qi4\n",
      "Searching word(s):\n",
      "水   shui3\n",
      "氵   shui3\n",
      "Searching word(s):\n",
      "火   huo3\n",
      "灬   huo3\n",
      "Searching word(s):\n",
      "爪   zhao3\n",
      "爫   zhao3\n",
      "Searching word(s):\n",
      "父   fu4\n",
      "Searching word(s):\n",
      "爻   yao2\n",
      "Searching word(s):\n",
      "爿   pan2, qiang2\n",
      "丬   pan2, qiang2\n",
      "Searching word(s):\n",
      "片   pian4\n",
      "Searching word(s):\n",
      "牙   ya2\n",
      "Searching word(s):\n",
      "牛   niu2\n",
      "牜   niu2\n",
      "Searching word(s):\n",
      "犬   quan3\n",
      "犭   quan3\n",
      "Searching word(s):\n",
      "歹   dai3\n",
      "Searching word(s):\n",
      "玄   xuan2\n",
      "Searching word(s):\n",
      "玉   yu4\n",
      "王   yu4\n",
      "Searching word(s):\n",
      "瓜   gua1\n",
      "Searching word(s):\n",
      "瓦   wa3\n",
      "Searching word(s):\n",
      "甘   gan1\n",
      "Searching word(s):\n",
      "生   sheng1\n",
      "Searching word(s):\n",
      "用   yong4\n",
      "Searching word(s):\n",
      "田   tian2\n",
      "Searching word(s):\n",
      "疋   pi3\n",
      "Searching word(s):\n",
      "疒   chuang2\n",
      "Searching word(s):\n",
      "癶   bo4\n",
      "Searching word(s):\n",
      "白   bai2\n",
      "Searching word(s):\n",
      "皮   pi2\n",
      "Searching word(s):\n",
      "皿   min3\n",
      "Searching word(s):\n",
      "目   mu4\n",
      "Searching word(s):\n",
      "矛   mao2\n",
      "Searching word(s):\n",
      "矢   shi3\n",
      "Searching word(s):\n",
      "石   shi2\n",
      "Searching word(s):\n",
      "示   shi4\n",
      "礻   shi4\n",
      "Searching word(s):\n",
      "禸   rou3\n",
      "Searching word(s):\n",
      "禾   he2\n",
      "Searching word(s):\n",
      "穴   xue4\n",
      "Searching word(s):\n",
      "立   li4\n",
      "Searching word(s):\n",
      "至   zhi4\n",
      "Searching word(s):\n",
      "竹   zhu2\n",
      "⺮   zhu2\n",
      "Searching word(s):\n",
      "缶   fou3\n",
      "Searching word(s):\n",
      "网   wang3\n",
      "罒   wang3\n",
      "Searching word(s):\n",
      "羊   yang2\n",
      "Searching word(s):\n",
      "羽   yu3\n",
      "Searching word(s):\n",
      "老   lao3\n",
      "Searching word(s):\n",
      "而   er2\n",
      "Searching word(s):\n",
      "耒   lei3\n",
      "Searching word(s):\n",
      "耳   er3\n",
      "Searching word(s):\n",
      "聿   yu4\n",
      "Searching word(s):\n",
      "肉   rou4\n",
      "Searching word(s):\n",
      "臣   chen2\n",
      "Searching word(s):\n",
      "自   zi4\n",
      "Searching word(s):\n",
      "糸   mi4\n",
      "Searching word(s):\n",
      "臼   jiu4\n",
      "Searching word(s):\n",
      "舌   she2\n",
      "Searching word(s):\n",
      "舛   chuan3\n",
      "Searching word(s):\n",
      "舟   zhou1\n",
      "Searching word(s):\n",
      "艮   gen4\n",
      "Searching word(s):\n",
      "色   se4\n",
      "Searching word(s):\n",
      "艸   cao3\n",
      "艹   cao3\n",
      "Searching word(s):\n",
      "虍   hu1\n",
      "Searching word(s):\n",
      "虫   chong2\n",
      "Searching word(s):\n",
      "血   xue3\n",
      "Searching word(s):\n",
      "行   xing2\n",
      "Searching word(s):\n",
      "衣   yi1\n",
      "衤   yi1\n",
      "Searching word(s):\n",
      "襾   ya4\n",
      "覀   ya4\n",
      "Searching word(s):\n",
      "米   mi3\n",
      "Searching word(s):\n",
      "見   jian4\n",
      "Searching word(s):\n",
      "角   jue2\n",
      "Searching word(s):\n",
      "言   yan2\n",
      "Searching word(s):\n",
      "谷   gu3\n",
      "Searching word(s):\n",
      "豆   dou4\n",
      "Searching word(s):\n",
      "豕   shi3\n",
      "Searching word(s):\n",
      "豸   zhi4\n",
      "Searching word(s):\n",
      "貝   bei4\n",
      "Searching word(s):\n",
      "赤   chi4\n",
      "Searching word(s):\n",
      "走   zou3\n",
      "Searching word(s):\n",
      "足   zu2\n",
      "Searching word(s):\n",
      "身   shen1\n",
      "Searching word(s):\n",
      "車   che1\n",
      "Searching word(s):\n",
      "辛   xin1\n",
      "Searching word(s):\n",
      "辰   chen2\n",
      "Searching word(s):\n",
      "辵   chuo4\n",
      "辶   chuo4\n",
      "Searching word(s):\n",
      "邑   yi4\n",
      "阝    right\n",
      "Searching word(s):\n",
      "酉   you3\n",
      "Searching word(s):\n",
      "釆   bian4\n",
      "Searching word(s):\n",
      "里   li3\n",
      "Searching word(s):\n",
      "金   jin1\n",
      "Searching word(s):\n",
      "長   chang2\n",
      "Searching word(s):\n",
      "阜   fu4\n",
      "阝    left\n",
      "Searching word(s):\n",
      "隶   dai4\n",
      "Searching word(s):\n",
      "隹   zhui1\n",
      "Searching word(s):\n",
      "雨   yu3\n",
      "Searching word(s):\n",
      "青   qing1\n",
      "Searching word(s):\n",
      "非   fei1\n",
      "Searching word(s):\n",
      "門   men2\n",
      "Searching word(s):\n",
      "風   feng1\n",
      "Searching word(s):\n",
      "革   ge2\n",
      "Searching word(s):\n",
      "韭   jiu3\n",
      "Searching word(s):\n",
      "音   yin1\n",
      "Searching word(s):\n",
      "頁   ye4\n",
      "Searching word(s):\n",
      "面   mian4\n",
      "Searching word(s):\n",
      "飛   fei1\n",
      "Searching word(s):\n",
      "食   shi2\n",
      "飠   shi2\n",
      "Searching word(s):\n",
      "首   shou3\n",
      "Searching word(s):\n",
      "香   xiang1\n",
      "Searching word(s):\n",
      "韋   wei2\n",
      "Searching word(s):\n",
      "馬   ma3\n",
      "Searching word(s):\n",
      "骨   gu3\n",
      "Searching word(s):\n",
      "高   gao1\n",
      "Searching word(s):\n",
      "髟   biao1\n",
      "Searching word(s):\n",
      "鬥   dou4\n",
      "Searching word(s):\n",
      "鬯   chang4\n",
      "Searching word(s):\n",
      "鬲   li4\n",
      "Searching word(s):\n",
      "鬼   gui3\n",
      "Searching word(s):\n",
      "魚   yu2\n",
      "Searching word(s):\n",
      "鹵   lu3\n",
      "Searching word(s):\n",
      "鹿   lu4\n",
      "Searching word(s):\n",
      "麥   mai4\n",
      "Searching word(s):\n",
      "麻   ma2\n",
      "Searching word(s):\n",
      "鳥   niao3\n",
      "Searching word(s):\n",
      "黃   huang2\n",
      "Searching word(s):\n",
      "黍   shu3\n",
      "Searching word(s):\n",
      "黑   hei1\n",
      "Searching word(s):\n",
      "黹   zhi3\n",
      "Searching word(s):\n",
      "黽   min3\n",
      "Searching word(s):\n",
      "鼎   ding3\n",
      "Searching word(s):\n",
      "鼓   gu3\n",
      "Searching word(s):\n",
      "鼠   shu3\n",
      "Searching word(s):\n",
      "鼻   bi2\n",
      "Searching word(s):\n",
      "齊   qi2\n",
      "Searching word(s):\n",
      "齒   chi3\n",
      "Searching word(s):\n",
      "龍   long2\n",
      "Searching word(s):\n",
      "龜   gui1\n",
      "Searching word(s):\n",
      "龠   yue4\n"
     ]
    }
   ],
   "source": [
    "\n",
    "pattern = r'[^()]+'\n",
    "\n",
    "for index, row in df.iterrows():\n",
    "\n",
    "    print(\"Searching word(s):\")\n",
    "    print(\"{0}   {1}\".format(row[\"radical\"], row[\"pinyin\"]))\n",
    "\n",
    "    if not pd.isnull(df.loc[index, 'variants']):\n",
    "        variants = row[\"variants\"].split(\",\")\n",
    "        for variant in variants:\n",
    "            matches = re.findall(pattern, variant)\n",
    "\n",
    "            if len(matches) == 2:\n",
    "                print(\"{0}   {1}\".format(matches[0], matches[1]))\n",
    "            else:\n",
    "                print(\"{0}   {1}\".format(matches[0], row[\"pinyin\"]))\n",
    "\n"
   ]
  },
  {
   "cell_type": "code",
   "execution_count": 40,
   "metadata": {},
   "outputs": [
    {
     "name": "stdout",
     "output_type": "stream",
     "text": [
      "<class 'pandas.core.frame.DataFrame'>\n",
      "Index: 28 entries, 2 to 182\n",
      "Data columns (total 4 columns):\n",
      " #   Column    Non-Null Count  Dtype \n",
      "---  ------    --------------  ----- \n",
      " 0   radical   28 non-null     object\n",
      " 1   variants  28 non-null     object\n",
      " 2   pinyin    28 non-null     object\n",
      " 3   learnt    28 non-null     bool  \n",
      "dtypes: bool(1), object(3)\n",
      "memory usage: 924.0+ bytes\n"
     ]
    }
   ],
   "source": [
    "df.info()"
   ]
  },
  {
   "cell_type": "code",
   "execution_count": 31,
   "metadata": {},
   "outputs": [],
   "source": [
    "df.drop(columns=[\"Unnamed: 0\"], inplace=True)"
   ]
  },
  {
   "cell_type": "code",
   "execution_count": 18,
   "metadata": {},
   "outputs": [],
   "source": [
    "df.loc[15, 'learnt'] = True\n",
    "df.drop(df[df['learnt'] == True].index, inplace = True)"
   ]
  },
  {
   "cell_type": "code",
   "execution_count": 19,
   "metadata": {},
   "outputs": [
    {
     "name": "stdout",
     "output_type": "stream",
     "text": [
      "<class 'pandas.core.frame.DataFrame'>\n",
      "Index: 212 entries, 1 to 213\n",
      "Data columns (total 4 columns):\n",
      " #   Column    Non-Null Count  Dtype \n",
      "---  ------    --------------  ----- \n",
      " 0   radical   212 non-null    object\n",
      " 1   variants  28 non-null     object\n",
      " 2   pinyin    212 non-null    object\n",
      " 3   learnt    212 non-null    bool  \n",
      "dtypes: bool(1), object(3)\n",
      "memory usage: 6.8+ KB\n"
     ]
    }
   ],
   "source": [
    "df.info()"
   ]
  },
  {
   "cell_type": "code",
   "execution_count": 6,
   "metadata": {},
   "outputs": [],
   "source": [
    "df = pd.read_csv(r\"/home/david/Documents/Cyber-AI/data/dataset_phishing.csv\")\n",
    "df.drop(columns=\"url\", inplace=True)\n",
    "\n",
    "mapping = {'phishing': 1, 'legitimate': 0}\n",
    "column = df['status'].map(mapping)\n",
    "df['status'] = column\n",
    "\n",
    "\n",
    "df.to_csv(r\"/home/david/Documents/Cyber-AI/data/dataset_phishing.csv\", index=False)"
   ]
  },
  {
   "cell_type": "code",
   "execution_count": 9,
   "metadata": {},
   "outputs": [
    {
     "data": {
      "text/plain": [
       "<Axes: ylabel='status'>"
      ]
     },
     "execution_count": 9,
     "metadata": {},
     "output_type": "execute_result"
    },
    {
     "data": {
      "image/png": "[encoded data removed]",
      "text/plain": [
       "<Figure size 640x480 with 1 Axes>"
      ]
     },
     "metadata": {},
     "output_type": "display_data"
    }
   ],
   "source": [
    "corrs = df.corr()\n",
    "reses = corrs[\"status\"]\n",
    "reses\n",
    "\n",
    "sns.barplot(reses)"
   ]
  },
  {
   "cell_type": "code",
   "execution_count": 11,
   "metadata": {},
   "outputs": [
    {
     "name": "stdout",
     "output_type": "stream",
     "text": [
      "<class 'pandas.core.series.Series'>\n",
      "Index: 24 entries, length_url to status\n",
      "Series name: status\n",
      "Non-Null Count  Dtype  \n",
      "--------------  -----  \n",
      "24 non-null     float64\n",
      "dtypes: float64(1)\n",
      "memory usage: 384.0+ bytes\n"
     ]
    }
   ],
   "source": [
    "co = reses[abs(reses) > 0.2]\n",
    "co.info()"
   ]
  },
  {
   "cell_type": "code",
   "execution_count": 14,
   "metadata": {},
   "outputs": [
    {
     "name": "stdout",
     "output_type": "stream",
     "text": [
      "<class 'pandas.core.frame.DataFrame'>\n",
      "RangeIndex: 11430 entries, 0 to 11429\n",
      "Data columns (total 24 columns):\n",
      " #   Column               Non-Null Count  Dtype  \n",
      "---  ------               --------------  -----  \n",
      " 0   length_url           11430 non-null  int64  \n",
      " 1   length_hostname      11430 non-null  int64  \n",
      " 2   ip                   11430 non-null  int64  \n",
      " 3   nb_dots              11430 non-null  int64  \n",
      " 4   nb_qm                11430 non-null  int64  \n",
      " 5   nb_eq                11430 non-null  int64  \n",
      " 6   nb_slash             11430 non-null  int64  \n",
      " 7   nb_www               11430 non-null  int64  \n",
      " 8   ratio_digits_url     11430 non-null  float64\n",
      " 9   ratio_digits_host    11430 non-null  float64\n",
      " 10  tld_in_subdomain     11430 non-null  int64  \n",
      " 11  prefix_suffix        11430 non-null  int64  \n",
      " 12  shortest_word_host   11430 non-null  int64  \n",
      " 13  longest_words_raw    11430 non-null  int64  \n",
      " 14  longest_word_path    11430 non-null  int64  \n",
      " 15  phish_hints          11430 non-null  int64  \n",
      " 16  nb_hyperlinks        11430 non-null  int64  \n",
      " 17  ratio_intHyperlinks  11430 non-null  float64\n",
      " 18  empty_title          11430 non-null  int64  \n",
      " 19  domain_in_title      11430 non-null  int64  \n",
      " 20  domain_age           11430 non-null  int64  \n",
      " 21  google_index         11430 non-null  int64  \n",
      " 22  page_rank            11430 non-null  int64  \n",
      " 23  status               11430 non-null  int64  \n",
      "dtypes: float64(3), int64(21)\n",
      "memory usage: 2.1 MB\n"
     ]
    }
   ],
   "source": [
    "correlated = df[co.index]\n",
    "correlated.info()"
   ]
  },
  {
   "cell_type": "code",
   "execution_count": 16,
   "metadata": {},
   "outputs": [
    {
     "data": {
      "image/png": "[encoded data removed]",
      "text/plain": [
       "<Figure size 640x480 with 2 Axes>"
      ]
     },
     "metadata": {},
     "output_type": "display_data"
    }
   ],
   "source": [
    "sns.heatmap(correlated.corr())\n",
    "\n",
    "correlated.to_csv(r\"/home/david/Documents/Cyber-AI/data/dataset_phishing_reduced.csv\", index=False)"
   ]
  },
  {
   "cell_type": "code",
   "execution_count": 11,
   "metadata": {},
   "outputs": [],
   "source": [
    "results = pd.DataFrame(df.corr()['Result'])\n",
    "results['absos'] = results.abs()\n",
    "filtered_df = results.query('absos >= 0.15 and absos <= 1')\n",
    "filtered_df = filtered_df.drop('absos', axis=1)\n",
    "\n",
    "names = filtered_df.index"
   ]
  },
  {
   "cell_type": "code",
   "execution_count": 12,
   "metadata": {},
   "outputs": [
    {
     "data": {
      "text/html": [
       "<div>\n",
       "<style scoped>\n",
       "    .dataframe tbody tr th:only-of-type {\n",
       "        vertical-align: middle;\n",
       "    }\n",
       "\n",
       "    .dataframe tbody tr th {\n",
       "        vertical-align: top;\n",
       "    }\n",
       "\n",
       "    .dataframe thead th {\n",
       "        text-align: right;\n",
       "    }\n",
       "</style>\n",
       "<table border=\"1\" class=\"dataframe\">\n",
       "  <thead>\n",
       "    <tr style=\"text-align: right;\">\n",
       "      <th></th>\n",
       "      <th>Prefix_Suffix</th>\n",
       "      <th>having_Sub_Domain</th>\n",
       "      <th>SSLfinal_State</th>\n",
       "      <th>Domain_registeration_length</th>\n",
       "      <th>Request_URL</th>\n",
       "      <th>URL_of_Anchor</th>\n",
       "      <th>Links_in_tags</th>\n",
       "      <th>SFH</th>\n",
       "      <th>web_traffic</th>\n",
       "      <th>Result</th>\n",
       "    </tr>\n",
       "  </thead>\n",
       "  <tbody>\n",
       "    <tr>\n",
       "      <th>0</th>\n",
       "      <td>-1</td>\n",
       "      <td>-1</td>\n",
       "      <td>-1</td>\n",
       "      <td>-1</td>\n",
       "      <td>1</td>\n",
       "      <td>-1</td>\n",
       "      <td>1</td>\n",
       "      <td>-1</td>\n",
       "      <td>-1</td>\n",
       "      <td>-1</td>\n",
       "    </tr>\n",
       "    <tr>\n",
       "      <th>1</th>\n",
       "      <td>-1</td>\n",
       "      <td>0</td>\n",
       "      <td>1</td>\n",
       "      <td>-1</td>\n",
       "      <td>1</td>\n",
       "      <td>0</td>\n",
       "      <td>-1</td>\n",
       "      <td>-1</td>\n",
       "      <td>0</td>\n",
       "      <td>-1</td>\n",
       "    </tr>\n",
       "    <tr>\n",
       "      <th>2</th>\n",
       "      <td>-1</td>\n",
       "      <td>-1</td>\n",
       "      <td>-1</td>\n",
       "      <td>-1</td>\n",
       "      <td>1</td>\n",
       "      <td>0</td>\n",
       "      <td>-1</td>\n",
       "      <td>-1</td>\n",
       "      <td>1</td>\n",
       "      <td>-1</td>\n",
       "    </tr>\n",
       "    <tr>\n",
       "      <th>3</th>\n",
       "      <td>-1</td>\n",
       "      <td>-1</td>\n",
       "      <td>-1</td>\n",
       "      <td>1</td>\n",
       "      <td>-1</td>\n",
       "      <td>0</td>\n",
       "      <td>0</td>\n",
       "      <td>-1</td>\n",
       "      <td>1</td>\n",
       "      <td>-1</td>\n",
       "    </tr>\n",
       "    <tr>\n",
       "      <th>4</th>\n",
       "      <td>-1</td>\n",
       "      <td>1</td>\n",
       "      <td>1</td>\n",
       "      <td>-1</td>\n",
       "      <td>1</td>\n",
       "      <td>0</td>\n",
       "      <td>0</td>\n",
       "      <td>-1</td>\n",
       "      <td>0</td>\n",
       "      <td>1</td>\n",
       "    </tr>\n",
       "    <tr>\n",
       "      <th>...</th>\n",
       "      <td>...</td>\n",
       "      <td>...</td>\n",
       "      <td>...</td>\n",
       "      <td>...</td>\n",
       "      <td>...</td>\n",
       "      <td>...</td>\n",
       "      <td>...</td>\n",
       "      <td>...</td>\n",
       "      <td>...</td>\n",
       "      <td>...</td>\n",
       "    </tr>\n",
       "    <tr>\n",
       "      <th>11050</th>\n",
       "      <td>1</td>\n",
       "      <td>1</td>\n",
       "      <td>1</td>\n",
       "      <td>-1</td>\n",
       "      <td>1</td>\n",
       "      <td>1</td>\n",
       "      <td>1</td>\n",
       "      <td>-1</td>\n",
       "      <td>-1</td>\n",
       "      <td>1</td>\n",
       "    </tr>\n",
       "    <tr>\n",
       "      <th>11051</th>\n",
       "      <td>-1</td>\n",
       "      <td>1</td>\n",
       "      <td>-1</td>\n",
       "      <td>-1</td>\n",
       "      <td>1</td>\n",
       "      <td>-1</td>\n",
       "      <td>-1</td>\n",
       "      <td>0</td>\n",
       "      <td>1</td>\n",
       "      <td>-1</td>\n",
       "    </tr>\n",
       "    <tr>\n",
       "      <th>11052</th>\n",
       "      <td>-1</td>\n",
       "      <td>1</td>\n",
       "      <td>-1</td>\n",
       "      <td>-1</td>\n",
       "      <td>1</td>\n",
       "      <td>0</td>\n",
       "      <td>-1</td>\n",
       "      <td>-1</td>\n",
       "      <td>1</td>\n",
       "      <td>-1</td>\n",
       "    </tr>\n",
       "    <tr>\n",
       "      <th>11053</th>\n",
       "      <td>-1</td>\n",
       "      <td>-1</td>\n",
       "      <td>-1</td>\n",
       "      <td>1</td>\n",
       "      <td>-1</td>\n",
       "      <td>-1</td>\n",
       "      <td>1</td>\n",
       "      <td>-1</td>\n",
       "      <td>1</td>\n",
       "      <td>-1</td>\n",
       "    </tr>\n",
       "    <tr>\n",
       "      <th>11054</th>\n",
       "      <td>-1</td>\n",
       "      <td>-1</td>\n",
       "      <td>-1</td>\n",
       "      <td>1</td>\n",
       "      <td>-1</td>\n",
       "      <td>-1</td>\n",
       "      <td>0</td>\n",
       "      <td>-1</td>\n",
       "      <td>-1</td>\n",
       "      <td>-1</td>\n",
       "    </tr>\n",
       "  </tbody>\n",
       "</table>\n",
       "<p>11055 rows × 10 columns</p>\n",
       "</div>"
      ],
      "text/plain": [
       "       Prefix_Suffix  having_Sub_Domain  SSLfinal_State  \\\n",
       "0                 -1                 -1              -1   \n",
       "1                 -1                  0               1   \n",
       "2                 -1                 -1              -1   \n",
       "3                 -1                 -1              -1   \n",
       "4                 -1                  1               1   \n",
       "...              ...                ...             ...   \n",
       "11050              1                  1               1   \n",
       "11051             -1                  1              -1   \n",
       "11052             -1                  1              -1   \n",
       "11053             -1                 -1              -1   \n",
       "11054             -1                 -1              -1   \n",
       "\n",
       "       Domain_registeration_length  Request_URL  URL_of_Anchor  Links_in_tags  \\\n",
       "0                               -1            1             -1              1   \n",
       "1                               -1            1              0             -1   \n",
       "2                               -1            1              0             -1   \n",
       "3                                1           -1              0              0   \n",
       "4                               -1            1              0              0   \n",
       "...                            ...          ...            ...            ...   \n",
       "11050                           -1            1              1              1   \n",
       "11051                           -1            1             -1             -1   \n",
       "11052                           -1            1              0             -1   \n",
       "11053                            1           -1             -1              1   \n",
       "11054                            1           -1             -1              0   \n",
       "\n",
       "       SFH  web_traffic  Result  \n",
       "0       -1           -1      -1  \n",
       "1       -1            0      -1  \n",
       "2       -1            1      -1  \n",
       "3       -1            1      -1  \n",
       "4       -1            0       1  \n",
       "...    ...          ...     ...  \n",
       "11050   -1           -1       1  \n",
       "11051    0            1      -1  \n",
       "11052   -1            1      -1  \n",
       "11053   -1            1      -1  \n",
       "11054   -1           -1      -1  \n",
       "\n",
       "[11055 rows x 10 columns]"
      ]
     },
     "execution_count": 12,
     "metadata": {},
     "output_type": "execute_result"
    }
   ],
   "source": [
    "filters = df[names]\n",
    "filters"
   ]
  },
  {
   "cell_type": "code",
   "execution_count": 8,
   "metadata": {},
   "outputs": [],
   "source": [
    "filters.to_csv(\"/home/david/Documents/Cyber-AI/data/Training_data_reduced.csv\", index=False)"
   ]
  },
  {
   "cell_type": "code",
   "execution_count": 33,
   "metadata": {},
   "outputs": [
    {
     "name": "stdout",
     "output_type": "stream",
     "text": [
      "(11055, 10)\n"
     ]
    },
    {
     "data": {
      "text/plain": [
       "((8291, 9), (2764, 9), (8291,), (2764,))"
      ]
     },
     "execution_count": 33,
     "metadata": {},
     "output_type": "execute_result"
    }
   ],
   "source": []
  },
  {
   "cell_type": "code",
   "execution_count": 40,
   "metadata": {},
   "outputs": [
    {
     "name": "stdout",
     "output_type": "stream",
     "text": [
      "Max neighbours: 1 Accuracy: 0.953328509406657\n"
     ]
    },
    {
     "data": {
      "text/plain": [
       "<Axes: >"
      ]
     },
     "execution_count": 40,
     "metadata": {},
     "output_type": "execute_result"
    },
    {
     "data": {
      "image/png": "[encoded data removed]",
      "text/plain": [
       "<Figure size 640x480 with 1 Axes>"
      ]
     },
     "metadata": {},
     "output_type": "display_data"
    }
   ],
   "source": [
    "from sklearn.neighbors import KNeighborsClassifier\n",
    "from sklearn.metrics import accuracy_score\n",
    "from sklearn.model_selection import train_test_split\n",
    "\n",
    "data = pd.read_csv(r\"/home/david/Documents/Cyber-AI/data/Training Dataset.csv\")\n",
    "\n",
    "labels = data[\"Result\"]\n",
    "data = data.drop(\"Result\", axis=1)\n",
    "\n",
    "X_train, X_test, y_train, y_test = train_test_split(data, labels, test_size=0.25, random_state=42)\n",
    "\n",
    "scores = []\n",
    "\n",
    "max_i = 1\n",
    "max_accuracy = 0\n",
    "\n",
    "for i in range(1, 30):\n",
    "    knn = KNeighborsClassifier(n_neighbors=i)\n",
    "    knn.fit(X_train, y_train)\n",
    "    y_pred = knn.predict(X_test)\n",
    "\n",
    "    accuracy = accuracy_score(y_test, y_pred)\n",
    "    scores.append(accuracy)\n",
    "\n",
    "    if accuracy > max_accuracy:\n",
    "        max_accuracy = accuracy\n",
    "        max_i = i\n",
    "\n",
    "print(f\"Max neighbours: {max_i} Accuracy: {max_accuracy}\")\n",
    "\n",
    "sns.lineplot(x=range(1, 30), y=scores)"
   ]
  },
  {
   "cell_type": "code",
   "execution_count": 9,
   "metadata": {},
   "outputs": [],
   "source": [
    "data_path = r\"/home/david/Documents/Cyber-AI/data/Student_Performance.csv\"\n",
    "df = pd.read_csv(data_path)\n",
    "\n",
    "mapping = {'Yes': 1, 'No': 0}\n",
    "column = df['Extracurricular Activities'].map(mapping)\n",
    "df['Extracurricular Activities'] = column\n",
    "\n",
    "labels = df[\"Performance Index\"]\n",
    "data = df.drop(\"Performance Index\", axis=1)"
   ]
  },
  {
   "cell_type": "code",
   "execution_count": 10,
   "metadata": {},
   "outputs": [
    {
     "data": {
      "text/html": [
       "<div>\n",
       "<style scoped>\n",
       "    .dataframe tbody tr th:only-of-type {\n",
       "        vertical-align: middle;\n",
       "    }\n",
       "\n",
       "    .dataframe tbody tr th {\n",
       "        vertical-align: top;\n",
       "    }\n",
       "\n",
       "    .dataframe thead th {\n",
       "        text-align: right;\n",
       "    }\n",
       "</style>\n",
       "<table border=\"1\" class=\"dataframe\">\n",
       "  <thead>\n",
       "    <tr style=\"text-align: right;\">\n",
       "      <th></th>\n",
       "      <th>Hours Studied</th>\n",
       "      <th>Previous Scores</th>\n",
       "      <th>Extracurricular Activities</th>\n",
       "      <th>Sleep Hours</th>\n",
       "      <th>Sample Question Papers Practiced</th>\n",
       "    </tr>\n",
       "  </thead>\n",
       "  <tbody>\n",
       "    <tr>\n",
       "      <th>0</th>\n",
       "      <td>7</td>\n",
       "      <td>99</td>\n",
       "      <td>1</td>\n",
       "      <td>9</td>\n",
       "      <td>1</td>\n",
       "    </tr>\n",
       "    <tr>\n",
       "      <th>1</th>\n",
       "      <td>4</td>\n",
       "      <td>82</td>\n",
       "      <td>0</td>\n",
       "      <td>4</td>\n",
       "      <td>2</td>\n",
       "    </tr>\n",
       "    <tr>\n",
       "      <th>2</th>\n",
       "      <td>8</td>\n",
       "      <td>51</td>\n",
       "      <td>1</td>\n",
       "      <td>7</td>\n",
       "      <td>2</td>\n",
       "    </tr>\n",
       "    <tr>\n",
       "      <th>3</th>\n",
       "      <td>5</td>\n",
       "      <td>52</td>\n",
       "      <td>1</td>\n",
       "      <td>5</td>\n",
       "      <td>2</td>\n",
       "    </tr>\n",
       "    <tr>\n",
       "      <th>4</th>\n",
       "      <td>7</td>\n",
       "      <td>75</td>\n",
       "      <td>0</td>\n",
       "      <td>8</td>\n",
       "      <td>5</td>\n",
       "    </tr>\n",
       "  </tbody>\n",
       "</table>\n",
       "</div>"
      ],
      "text/plain": [
       "   Hours Studied  Previous Scores  Extracurricular Activities  Sleep Hours  \\\n",
       "0              7               99                           1            9   \n",
       "1              4               82                           0            4   \n",
       "2              8               51                           1            7   \n",
       "3              5               52                           1            5   \n",
       "4              7               75                           0            8   \n",
       "\n",
       "   Sample Question Papers Practiced  \n",
       "0                                 1  \n",
       "1                                 2  \n",
       "2                                 2  \n",
       "3                                 2  \n",
       "4                                 5  "
      ]
     },
     "execution_count": 10,
     "metadata": {},
     "output_type": "execute_result"
    }
   ],
   "source": [
    "data.head()"
   ]
  },
  {
   "cell_type": "code",
   "execution_count": 2,
   "metadata": {},
   "outputs": [],
   "source": [
    "from math import pow"
   ]
  },
  {
   "cell_type": "code",
   "execution_count": 3,
   "metadata": {},
   "outputs": [
    {
     "data": {
      "text/html": [
       "<div>\n",
       "<style scoped>\n",
       "    .dataframe tbody tr th:only-of-type {\n",
       "        vertical-align: middle;\n",
       "    }\n",
       "\n",
       "    .dataframe tbody tr th {\n",
       "        vertical-align: top;\n",
       "    }\n",
       "\n",
       "    .dataframe thead th {\n",
       "        text-align: right;\n",
       "    }\n",
       "</style>\n",
       "<table border=\"1\" class=\"dataframe\">\n",
       "  <thead>\n",
       "    <tr style=\"text-align: right;\">\n",
       "      <th></th>\n",
       "      <th>Year</th>\n",
       "      <th>Quantum</th>\n",
       "      <th>Cyber</th>\n",
       "      <th>Robotics</th>\n",
       "      <th>AI</th>\n",
       "    </tr>\n",
       "  </thead>\n",
       "  <tbody>\n",
       "    <tr>\n",
       "      <th>0</th>\n",
       "      <td>0</td>\n",
       "      <td>7.170000e-01</td>\n",
       "      <td>1.536000e+02</td>\n",
       "      <td>4.585000e+01</td>\n",
       "      <td>1.920000e+01</td>\n",
       "    </tr>\n",
       "    <tr>\n",
       "      <th>1</th>\n",
       "      <td>1</td>\n",
       "      <td>9.464400e-01</td>\n",
       "      <td>1.747968e+02</td>\n",
       "      <td>5.314015e+01</td>\n",
       "      <td>2.615040e+01</td>\n",
       "    </tr>\n",
       "    <tr>\n",
       "      <th>2</th>\n",
       "      <td>2</td>\n",
       "      <td>1.649077e+00</td>\n",
       "      <td>2.263695e+02</td>\n",
       "      <td>7.138215e+01</td>\n",
       "      <td>4.851014e+01</td>\n",
       "    </tr>\n",
       "    <tr>\n",
       "      <th>3</th>\n",
       "      <td>3</td>\n",
       "      <td>3.792824e+00</td>\n",
       "      <td>3.336144e+02</td>\n",
       "      <td>1.111322e+02</td>\n",
       "      <td>1.225643e+02</td>\n",
       "    </tr>\n",
       "    <tr>\n",
       "      <th>4</th>\n",
       "      <td>4</td>\n",
       "      <td>1.151485e+01</td>\n",
       "      <td>5.595177e+02</td>\n",
       "      <td>2.005274e+02</td>\n",
       "      <td>4.217667e+02</td>\n",
       "    </tr>\n",
       "    <tr>\n",
       "      <th>5</th>\n",
       "      <td>5</td>\n",
       "      <td>4.614537e+01</td>\n",
       "      <td>1.067887e+03</td>\n",
       "      <td>4.193637e+02</td>\n",
       "      <td>1.976778e+03</td>\n",
       "    </tr>\n",
       "    <tr>\n",
       "      <th>6</th>\n",
       "      <td>6</td>\n",
       "      <td>2.441022e+02</td>\n",
       "      <td>2.319416e+03</td>\n",
       "      <td>1.016463e+03</td>\n",
       "      <td>1.261887e+04</td>\n",
       "    </tr>\n",
       "    <tr>\n",
       "      <th>7</th>\n",
       "      <td>7</td>\n",
       "      <td>1.704469e+03</td>\n",
       "      <td>5.732902e+03</td>\n",
       "      <td>2.855456e+03</td>\n",
       "      <td>1.097135e+05</td>\n",
       "    </tr>\n",
       "    <tr>\n",
       "      <th>8</th>\n",
       "      <td>8</td>\n",
       "      <td>1.571016e+04</td>\n",
       "      <td>1.612548e+04</td>\n",
       "      <td>9.297004e+03</td>\n",
       "      <td>1.299203e+06</td>\n",
       "    </tr>\n",
       "    <tr>\n",
       "      <th>9</th>\n",
       "      <td>9</td>\n",
       "      <td>1.911376e+05</td>\n",
       "      <td>5.161703e+04</td>\n",
       "      <td>3.508278e+04</td>\n",
       "      <td>2.095420e+07</td>\n",
       "    </tr>\n",
       "    <tr>\n",
       "      <th>10</th>\n",
       "      <td>10</td>\n",
       "      <td>3.069625e+06</td>\n",
       "      <td>1.880250e+05</td>\n",
       "      <td>1.534364e+05</td>\n",
       "      <td>4.603012e+08</td>\n",
       "    </tr>\n",
       "    <tr>\n",
       "      <th>11</th>\n",
       "      <td>11</td>\n",
       "      <td>6.507267e+07</td>\n",
       "      <td>7.794361e+05</td>\n",
       "      <td>7.777609e+05</td>\n",
       "      <td>1.377179e+10</td>\n",
       "    </tr>\n",
       "    <tr>\n",
       "      <th>12</th>\n",
       "      <td>12</td>\n",
       "      <td>1.820899e+09</td>\n",
       "      <td>3.676949e+06</td>\n",
       "      <td>4.569276e+06</td>\n",
       "      <td>5.611974e+11</td>\n",
       "    </tr>\n",
       "    <tr>\n",
       "      <th>13</th>\n",
       "      <td>13</td>\n",
       "      <td>6.725846e+10</td>\n",
       "      <td>1.973954e+07</td>\n",
       "      <td>3.111229e+07</td>\n",
       "      <td>3.114713e+13</td>\n",
       "    </tr>\n",
       "    <tr>\n",
       "      <th>14</th>\n",
       "      <td>14</td>\n",
       "      <td>3.279306e+12</td>\n",
       "      <td>1.205948e+08</td>\n",
       "      <td>2.455275e+08</td>\n",
       "      <td>2.354494e+15</td>\n",
       "    </tr>\n",
       "    <tr>\n",
       "      <th>15</th>\n",
       "      <td>15</td>\n",
       "      <td>2.110527e+14</td>\n",
       "      <td>8.384220e+08</td>\n",
       "      <td>2.245700e+09</td>\n",
       "      <td>2.424120e+17</td>\n",
       "    </tr>\n",
       "    <tr>\n",
       "      <th>16</th>\n",
       "      <td>16</td>\n",
       "      <td>1.792973e+16</td>\n",
       "      <td>6.633441e+09</td>\n",
       "      <td>2.380601e+10</td>\n",
       "      <td>3.399287e+19</td>\n",
       "    </tr>\n",
       "    <tr>\n",
       "      <th>17</th>\n",
       "      <td>17</td>\n",
       "      <td>2.010623e+18</td>\n",
       "      <td>5.972516e+10</td>\n",
       "      <td>2.924860e+11</td>\n",
       "      <td>6.492302e+21</td>\n",
       "    </tr>\n",
       "    <tr>\n",
       "      <th>18</th>\n",
       "      <td>18</td>\n",
       "      <td>2.976195e+20</td>\n",
       "      <td>6.119529e+11</td>\n",
       "      <td>4.164922e+12</td>\n",
       "      <td>1.688833e+24</td>\n",
       "    </tr>\n",
       "    <tr>\n",
       "      <th>19</th>\n",
       "      <td>19</td>\n",
       "      <td>5.815219e+22</td>\n",
       "      <td>7.135444e+12</td>\n",
       "      <td>6.873725e+13</td>\n",
       "      <td>5.983450e+26</td>\n",
       "    </tr>\n",
       "    <tr>\n",
       "      <th>20</th>\n",
       "      <td>20</td>\n",
       "      <td>1.499839e+25</td>\n",
       "      <td>9.468174e+13</td>\n",
       "      <td>1.314804e+15</td>\n",
       "      <td>2.887313e+29</td>\n",
       "    </tr>\n",
       "    <tr>\n",
       "      <th>21</th>\n",
       "      <td>21</td>\n",
       "      <td>5.106193e+27</td>\n",
       "      <td>1.429729e+15</td>\n",
       "      <td>2.914829e+16</td>\n",
       "      <td>1.897637e+32</td>\n",
       "    </tr>\n",
       "    <tr>\n",
       "      <th>22</th>\n",
       "      <td>22</td>\n",
       "      <td>2.294689e+30</td>\n",
       "      <td>2.456878e+16</td>\n",
       "      <td>7.489428e+17</td>\n",
       "      <td>1.698672e+35</td>\n",
       "    </tr>\n",
       "    <tr>\n",
       "      <th>23</th>\n",
       "      <td>23</td>\n",
       "      <td>1.361207e+33</td>\n",
       "      <td>4.804581e+17</td>\n",
       "      <td>2.230323e+19</td>\n",
       "      <td>2.071013e+38</td>\n",
       "    </tr>\n",
       "    <tr>\n",
       "      <th>24</th>\n",
       "      <td>24</td>\n",
       "      <td>1.065856e+36</td>\n",
       "      <td>1.069227e+19</td>\n",
       "      <td>7.697862e+20</td>\n",
       "      <td>3.439010e+41</td>\n",
       "    </tr>\n",
       "    <tr>\n",
       "      <th>25</th>\n",
       "      <td>25</td>\n",
       "      <td>1.101658e+39</td>\n",
       "      <td>2.707861e+20</td>\n",
       "      <td>3.079329e+22</td>\n",
       "      <td>7.777879e+44</td>\n",
       "    </tr>\n",
       "    <tr>\n",
       "      <th>26</th>\n",
       "      <td>26</td>\n",
       "      <td>1.503035e+42</td>\n",
       "      <td>7.804143e+21</td>\n",
       "      <td>1.427662e+24</td>\n",
       "      <td>2.395885e+48</td>\n",
       "    </tr>\n",
       "    <tr>\n",
       "      <th>27</th>\n",
       "      <td>27</td>\n",
       "      <td>2.706856e+45</td>\n",
       "      <td>2.559566e+23</td>\n",
       "      <td>7.671462e+25</td>\n",
       "      <td>1.005189e+52</td>\n",
       "    </tr>\n",
       "    <tr>\n",
       "      <th>28</th>\n",
       "      <td>28</td>\n",
       "      <td>6.434803e+48</td>\n",
       "      <td>9.553216e+24</td>\n",
       "      <td>4.777650e+27</td>\n",
       "      <td>5.743900e+55</td>\n",
       "    </tr>\n",
       "    <tr>\n",
       "      <th>29</th>\n",
       "      <td>29</td>\n",
       "      <td>2.019200e+52</td>\n",
       "      <td>4.057656e+26</td>\n",
       "      <td>3.448530e+29</td>\n",
       "      <td>4.470365e+59</td>\n",
       "    </tr>\n",
       "    <tr>\n",
       "      <th>30</th>\n",
       "      <td>30</td>\n",
       "      <td>8.363675e+55</td>\n",
       "      <td>1.961296e+28</td>\n",
       "      <td>2.884942e+31</td>\n",
       "      <td>4.738668e+63</td>\n",
       "    </tr>\n",
       "    <tr>\n",
       "      <th>31</th>\n",
       "      <td>31</td>\n",
       "      <td>4.572872e+59</td>\n",
       "      <td>1.078830e+30</td>\n",
       "      <td>2.797200e+33</td>\n",
       "      <td>6.841425e+67</td>\n",
       "    </tr>\n",
       "    <tr>\n",
       "      <th>32</th>\n",
       "      <td>32</td>\n",
       "      <td>3.300311e+63</td>\n",
       "      <td>6.753137e+31</td>\n",
       "      <td>3.143356e+35</td>\n",
       "      <td>1.345284e+72</td>\n",
       "    </tr>\n",
       "    <tr>\n",
       "      <th>33</th>\n",
       "      <td>33</td>\n",
       "      <td>3.144087e+67</td>\n",
       "      <td>4.810611e+33</td>\n",
       "      <td>4.093991e+37</td>\n",
       "      <td>3.602953e+76</td>\n",
       "    </tr>\n",
       "    <tr>\n",
       "      <th>34</th>\n",
       "      <td>34</td>\n",
       "      <td>3.953741e+71</td>\n",
       "      <td>3.899753e+35</td>\n",
       "      <td>6.179933e+39</td>\n",
       "      <td>1.314257e+81</td>\n",
       "    </tr>\n",
       "    <tr>\n",
       "      <th>35</th>\n",
       "      <td>35</td>\n",
       "      <td>6.562900e+75</td>\n",
       "      <td>3.597628e+37</td>\n",
       "      <td>1.081195e+42</td>\n",
       "      <td>6.529486e+85</td>\n",
       "    </tr>\n",
       "    <tr>\n",
       "      <th>36</th>\n",
       "      <td>36</td>\n",
       "      <td>1.437995e+80</td>\n",
       "      <td>3.776920e+39</td>\n",
       "      <td>2.192339e+44</td>\n",
       "      <td>4.418297e+90</td>\n",
       "    </tr>\n",
       "    <tr>\n",
       "      <th>37</th>\n",
       "      <td>37</td>\n",
       "      <td>4.159037e+84</td>\n",
       "      <td>4.512336e+41</td>\n",
       "      <td>5.152225e+46</td>\n",
       "      <td>4.072001e+95</td>\n",
       "    </tr>\n",
       "    <tr>\n",
       "      <th>38</th>\n",
       "      <td>38</td>\n",
       "      <td>1.587823e+89</td>\n",
       "      <td>6.134899e+43</td>\n",
       "      <td>1.403348e+49</td>\n",
       "      <td>5.111377e+100</td>\n",
       "    </tr>\n",
       "    <tr>\n",
       "      <th>39</th>\n",
       "      <td>39</td>\n",
       "      <td>8.001760e+93</td>\n",
       "      <td>9.491954e+45</td>\n",
       "      <td>4.430160e+51</td>\n",
       "      <td>8.738666e+105</td>\n",
       "    </tr>\n",
       "    <tr>\n",
       "      <th>40</th>\n",
       "      <td>40</td>\n",
       "      <td>5.322832e+98</td>\n",
       "      <td>1.671268e+48</td>\n",
       "      <td>1.620902e+54</td>\n",
       "      <td>2.034836e+111</td>\n",
       "    </tr>\n",
       "    <tr>\n",
       "      <th>41</th>\n",
       "      <td>41</td>\n",
       "      <td>4.673841e+103</td>\n",
       "      <td>3.348720e+50</td>\n",
       "      <td>6.873496e+56</td>\n",
       "      <td>6.453434e+116</td>\n",
       "    </tr>\n",
       "    <tr>\n",
       "      <th>42</th>\n",
       "      <td>42</td>\n",
       "      <td>5.417252e+108</td>\n",
       "      <td>7.635788e+52</td>\n",
       "      <td>3.378174e+59</td>\n",
       "      <td>2.787593e+122</td>\n",
       "    </tr>\n",
       "    <tr>\n",
       "      <th>43</th>\n",
       "      <td>43</td>\n",
       "      <td>8.288159e+113</td>\n",
       "      <td>1.981395e+55</td>\n",
       "      <td>1.924287e+62</td>\n",
       "      <td>1.640004e+128</td>\n",
       "    </tr>\n",
       "    <tr>\n",
       "      <th>44</th>\n",
       "      <td>44</td>\n",
       "      <td>1.673829e+119</td>\n",
       "      <td>5.851007e+57</td>\n",
       "      <td>1.270401e+65</td>\n",
       "      <td>1.314128e+134</td>\n",
       "    </tr>\n",
       "    <tr>\n",
       "      <th>45</th>\n",
       "      <td>45</td>\n",
       "      <td>4.462086e+124</td>\n",
       "      <td>1.966222e+60</td>\n",
       "      <td>9.720656e+67</td>\n",
       "      <td>1.434193e+140</td>\n",
       "    </tr>\n",
       "    <tr>\n",
       "      <th>46</th>\n",
       "      <td>46</td>\n",
       "      <td>1.570141e+130</td>\n",
       "      <td>7.519284e+62</td>\n",
       "      <td>8.620523e+70</td>\n",
       "      <td>2.131840e+146</td>\n",
       "    </tr>\n",
       "    <tr>\n",
       "      <th>47</th>\n",
       "      <td>47</td>\n",
       "      <td>7.293123e+135</td>\n",
       "      <td>3.272373e+65</td>\n",
       "      <td>8.860436e+73</td>\n",
       "      <td>4.315972e+152</td>\n",
       "    </tr>\n",
       "    <tr>\n",
       "      <th>48</th>\n",
       "      <td>48</td>\n",
       "      <td>4.471593e+141</td>\n",
       "      <td>1.620658e+68</td>\n",
       "      <td>1.055504e+77</td>\n",
       "      <td>1.190090e+159</td>\n",
       "    </tr>\n",
       "    <tr>\n",
       "      <th>49</th>\n",
       "      <td>49</td>\n",
       "      <td>3.618969e+147</td>\n",
       "      <td>9.134026e+70</td>\n",
       "      <td>1.457298e+80</td>\n",
       "      <td>4.469490e+165</td>\n",
       "    </tr>\n",
       "  </tbody>\n",
       "</table>\n",
       "</div>"
      ],
      "text/plain": [
       "    Year        Quantum         Cyber      Robotics             AI\n",
       "0      0   7.170000e-01  1.536000e+02  4.585000e+01   1.920000e+01\n",
       "1      1   9.464400e-01  1.747968e+02  5.314015e+01   2.615040e+01\n",
       "2      2   1.649077e+00  2.263695e+02  7.138215e+01   4.851014e+01\n",
       "3      3   3.792824e+00  3.336144e+02  1.111322e+02   1.225643e+02\n",
       "4      4   1.151485e+01  5.595177e+02  2.005274e+02   4.217667e+02\n",
       "5      5   4.614537e+01  1.067887e+03  4.193637e+02   1.976778e+03\n",
       "6      6   2.441022e+02  2.319416e+03  1.016463e+03   1.261887e+04\n",
       "7      7   1.704469e+03  5.732902e+03  2.855456e+03   1.097135e+05\n",
       "8      8   1.571016e+04  1.612548e+04  9.297004e+03   1.299203e+06\n",
       "9      9   1.911376e+05  5.161703e+04  3.508278e+04   2.095420e+07\n",
       "10    10   3.069625e+06  1.880250e+05  1.534364e+05   4.603012e+08\n",
       "11    11   6.507267e+07  7.794361e+05  7.777609e+05   1.377179e+10\n",
       "12    12   1.820899e+09  3.676949e+06  4.569276e+06   5.611974e+11\n",
       "13    13   6.725846e+10  1.973954e+07  3.111229e+07   3.114713e+13\n",
       "14    14   3.279306e+12  1.205948e+08  2.455275e+08   2.354494e+15\n",
       "15    15   2.110527e+14  8.384220e+08  2.245700e+09   2.424120e+17\n",
       "16    16   1.792973e+16  6.633441e+09  2.380601e+10   3.399287e+19\n",
       "17    17   2.010623e+18  5.972516e+10  2.924860e+11   6.492302e+21\n",
       "18    18   2.976195e+20  6.119529e+11  4.164922e+12   1.688833e+24\n",
       "19    19   5.815219e+22  7.135444e+12  6.873725e+13   5.983450e+26\n",
       "20    20   1.499839e+25  9.468174e+13  1.314804e+15   2.887313e+29\n",
       "21    21   5.106193e+27  1.429729e+15  2.914829e+16   1.897637e+32\n",
       "22    22   2.294689e+30  2.456878e+16  7.489428e+17   1.698672e+35\n",
       "23    23   1.361207e+33  4.804581e+17  2.230323e+19   2.071013e+38\n",
       "24    24   1.065856e+36  1.069227e+19  7.697862e+20   3.439010e+41\n",
       "25    25   1.101658e+39  2.707861e+20  3.079329e+22   7.777879e+44\n",
       "26    26   1.503035e+42  7.804143e+21  1.427662e+24   2.395885e+48\n",
       "27    27   2.706856e+45  2.559566e+23  7.671462e+25   1.005189e+52\n",
       "28    28   6.434803e+48  9.553216e+24  4.777650e+27   5.743900e+55\n",
       "29    29   2.019200e+52  4.057656e+26  3.448530e+29   4.470365e+59\n",
       "30    30   8.363675e+55  1.961296e+28  2.884942e+31   4.738668e+63\n",
       "31    31   4.572872e+59  1.078830e+30  2.797200e+33   6.841425e+67\n",
       "32    32   3.300311e+63  6.753137e+31  3.143356e+35   1.345284e+72\n",
       "33    33   3.144087e+67  4.810611e+33  4.093991e+37   3.602953e+76\n",
       "34    34   3.953741e+71  3.899753e+35  6.179933e+39   1.314257e+81\n",
       "35    35   6.562900e+75  3.597628e+37  1.081195e+42   6.529486e+85\n",
       "36    36   1.437995e+80  3.776920e+39  2.192339e+44   4.418297e+90\n",
       "37    37   4.159037e+84  4.512336e+41  5.152225e+46   4.072001e+95\n",
       "38    38   1.587823e+89  6.134899e+43  1.403348e+49  5.111377e+100\n",
       "39    39   8.001760e+93  9.491954e+45  4.430160e+51  8.738666e+105\n",
       "40    40   5.322832e+98  1.671268e+48  1.620902e+54  2.034836e+111\n",
       "41    41  4.673841e+103  3.348720e+50  6.873496e+56  6.453434e+116\n",
       "42    42  5.417252e+108  7.635788e+52  3.378174e+59  2.787593e+122\n",
       "43    43  8.288159e+113  1.981395e+55  1.924287e+62  1.640004e+128\n",
       "44    44  1.673829e+119  5.851007e+57  1.270401e+65  1.314128e+134\n",
       "45    45  4.462086e+124  1.966222e+60  9.720656e+67  1.434193e+140\n",
       "46    46  1.570141e+130  7.519284e+62  8.620523e+70  2.131840e+146\n",
       "47    47  7.293123e+135  3.272373e+65  8.860436e+73  4.315972e+152\n",
       "48    48  4.471593e+141  1.620658e+68  1.055504e+77  1.190090e+159\n",
       "49    49  3.618969e+147  9.134026e+70  1.457298e+80  4.469490e+165"
      ]
     },
     "execution_count": 3,
     "metadata": {},
     "output_type": "execute_result"
    }
   ],
   "source": [
    "quant = 0.717\n",
    "cyber = 153.6\n",
    "robotics = 45.85\n",
    "ai = 19.2\n",
    "\n",
    "quant_cagr = 1.32\n",
    "cyber_cagr = 1.138\n",
    "robotics_cagr = 1.159\n",
    "ai_cagr = 1.362\n",
    "\n",
    "quant_list = []\n",
    "cyber_list = []\n",
    "robotics_list = []\n",
    "ai_list = []\n",
    "\n",
    "for years in range(50):\n",
    "\n",
    "    quant = quant * pow(quant_cagr, years)\n",
    "    cyber = cyber * pow(cyber_cagr, years)\n",
    "    robotics = robotics * pow(robotics_cagr, years)\n",
    "    ai = ai * pow(ai_cagr, years)\n",
    "\n",
    "    quant_list.append(quant)\n",
    "    cyber_list.append(cyber)\n",
    "    robotics_list.append(robotics)\n",
    "    ai_list.append(ai)\n",
    "\n",
    "df = pd.DataFrame({\"Year\": range(50), \"Quantum\": quant_list, \"Cyber\": cyber_list, \"Robotics\": robotics_list, \"AI\": ai_list})\n",
    "df"
   ]
  },
  {
   "cell_type": "code",
   "execution_count": 4,
   "metadata": {},
   "outputs": [
    {
     "data": {
      "application/vnd.plotly.v1+json": {
       "config": {
        "plotlyServerURL": "https://plot.ly"
       },
       "data": [
        {
         "hovertemplate": "variable=Quantum<br>Year=%{x}<br>value=%{y}<extra></extra>",
         "legendgroup": "Quantum",
         "line": {
          "color": "#636efa",
          "dash": "solid"
         },
         "marker": {
          "symbol": "circle"
         },
         "mode": "lines",
         "name": "Quantum",
         "orientation": "v",
         "showlegend": true,
         "type": "scatter",
         "x": [
          0,
          1,
          2,
          3,
          4,
          5,
          6,
          7,
          8,
          9,
          10,
          11,
          12,
          13,
          14,
          15,
          16,
          17,
          18,
          19,
          20,
          21,
          22,
          23,
          24,
          25,
          26,
          27,
          28,
          29,
          30,
          31,
          32,
          33,
          34,
          35,
          36,
          37,
          38,
          39,
          40,
          41,
          42,
          43,
          44,
          45,
          46,
          47,
          48,
          49
         ],
         "xaxis": "x",
         "y": [
          0.717,
          0.9464400000000001,
          1.6490770560000003,
          3.7928244583342092,
          11.51485484659754,
          46.14536906337788,
          244.10220979419577,
          1704.469480845087,
          15710.16256644248,
          191137.56980794918,
          3069625.344588479,
          65072668.29123117,
          1820898716.2317472,
          67258456320.16321,
          3279305914296.745,
          211052694124046.2,
          17929732064253970,
          2010622925539281000,
          297619506257328700000,
          5.815219133396168e+22,
          1.4998392300615915e+25,
          5.106193450405296e+27,
          2.294688561286427e+30,
          1.361206983374805e+33,
          1.0658559585643545e+36,
          1.101658012728926e+39,
          1.5030347063132455e+42,
          2.7068559925213275e+45,
          6.434802549923626e+48,
          2.0191995008819853e+52,
          8.36367534575213e+55,
          4.572871880234489e+59,
          3.3003107373878625e+63,
          3.1440870525421324e+67,
          3.9537410620791943e+71,
          6.562900430125849e+75,
          1.437994876773394e+80,
          4.15903708990855e+84,
          1.587823331564503e+89,
          8.001759538665632e+93,
          5.322831820340555e+98,
          4.673840891488244e+103,
          5.417251949614668e+108,
          8.288159046137826e+113,
          1.673828851549548e+119,
          4.462086177958315e+124,
          1.5701414881363214e+130,
          7.293123298531605e+135,
          4.471592857160134e+141,
          3.618969165540554e+147
         ],
         "yaxis": "y"
        },
        {
         "hovertemplate": "variable=Cyber<br>Year=%{x}<br>value=%{y}<extra></extra>",
         "legendgroup": "Cyber",
         "line": {
          "color": "#EF553B",
          "dash": "solid"
         },
         "marker": {
          "symbol": "circle"
         },
         "mode": "lines",
         "name": "Cyber",
         "orientation": "v",
         "showlegend": true,
         "type": "scatter",
         "x": [
          0,
          1,
          2,
          3,
          4,
          5,
          6,
          7,
          8,
          9,
          10,
          11,
          12,
          13,
          14,
          15,
          16,
          17,
          18,
          19,
          20,
          21,
          22,
          23,
          24,
          25,
          26,
          27,
          28,
          29,
          30,
          31,
          32,
          33,
          34,
          35,
          36,
          37,
          38,
          39,
          40,
          41,
          42,
          43,
          44,
          45,
          46,
          47,
          48,
          49
         ],
         "xaxis": "x",
         "y": [
          153.6,
          174.7968,
          226.36954705919996,
          333.61439997257384,
          559.5177084569037,
          1067.886623673199,
          2319.416374970521,
          5732.902468288002,
          16125.479958070313,
          51617.029567516285,
          188025.0136781833,
          779436.0911864246,
          3676949.4245108487,
          19739541.599501573,
          120594841.73364957,
          838421994.6051487,
          6633440770.772725,
          59725158467.869965,
          611952943086.7275,
          7135444079399.399,
          94681743833098.9,
          1429729082403995.8,
          24568775766785956,
          480458127083235600,
          10692267942587095000,
          270786110923408440000,
          7.804142636810856e+21,
          2.559565654831473e+23,
          9.553216315318066e+24,
          4.057655866834145e+26,
          1.9612956863600468e+28,
          1.078830452647063e+30,
          6.75313735127758e+31,
          4.810610898277933e+33,
          3.899753359120879e+35,
          3.597628482553521e+37,
          3.776919660937482e+39,
          4.5123361284175905e+41,
          6.134898776855321e+43,
          9.491953931985353e+45,
          1.671268024460623e+48,
          3.34872009713003e+50,
          7.63578787484577e+52,
          1.9813952775365631e+55,
          5.851007491300867e+57,
          1.9662215278531003e+60,
          7.519284230047451e+62,
          3.27237313276414e+65,
          1.6206580738503005e+68,
          9.134025885225942e+70
         ],
         "yaxis": "y"
        },
        {
         "hovertemplate": "variable=Robotics<br>Year=%{x}<br>value=%{y}<extra></extra>",
         "legendgroup": "Robotics",
         "line": {
          "color": "#00cc96",
          "dash": "solid"
         },
         "marker": {
          "symbol": "circle"
         },
         "mode": "lines",
         "name": "Robotics",
         "orientation": "v",
         "showlegend": true,
         "type": "scatter",
         "x": [
          0,
          1,
          2,
          3,
          4,
          5,
          6,
          7,
          8,
          9,
          10,
          11,
          12,
          13,
          14,
          15,
          16,
          17,
          18,
          19,
          20,
          21,
          22,
          23,
          24,
          25,
          26,
          27,
          28,
          29,
          30,
          31,
          32,
          33,
          34,
          35,
          36,
          37,
          38,
          39,
          40,
          41,
          42,
          43,
          44,
          45,
          46,
          47,
          48,
          49
         ],
         "xaxis": "x",
         "y": [
          45.85,
          53.140150000000006,
          71.38215383215001,
          111.1322112479112,
          200.52738927474908,
          419.3637425914969,
          1016.462814207042,
          2855.456489966537,
          9297.004361416584,
          35082.77663256169,
          153436.37091901345,
          777760.9131108114,
          4569275.5101013435,
          31112292.46748093,
          245527485.52204007,
          2245699568.9771485,
          23806011061.364555,
          292485972562.63324,
          4164922166486.879,
          68737253156298.38,
          1314803623702848.5,
          29148287709457230,
          748942780646289800,
          22303225014886180000,
          769786213963392600000,
          3.0793285471844843e+22,
          1.4276618788560536e+24,
          7.6714619312465956e+25,
          4.777650111038018e+27,
          3.448529807405225e+29,
          2.884941845384552e+31,
          2.797200376022793e+33,
          3.143355703743545e+35,
          4.0939913015100493e+37,
          6.179932596626797e+39,
          1.0811949214313442e+42,
          2.192338909506798e+44,
          5.152225021488913e+46,
          1.4033480290615627e+49,
          4.430159796918274e+51,
          1.620902268827273e+54,
          6.8734963227665955e+56,
          3.378174000512525e+59,
          1.924286626413083e+62,
          1.270401342327334e+65,
          9.72065573098722e+67,
          8.620523034584163e+70,
          8.860436285199718e+73,
          1.0555043638783372e+77,
          1.4572980890427297e+80
         ],
         "yaxis": "y"
        },
        {
         "hovertemplate": "variable=AI<br>Year=%{x}<br>value=%{y}<extra></extra>",
         "legendgroup": "AI",
         "line": {
          "color": "#ab63fa",
          "dash": "solid"
         },
         "marker": {
          "symbol": "circle"
         },
         "mode": "lines",
         "name": "AI",
         "orientation": "v",
         "showlegend": true,
         "type": "scatter",
         "x": [
          0,
          1,
          2,
          3,
          4,
          5,
          6,
          7,
          8,
          9,
          10,
          11,
          12,
          13,
          14,
          15,
          16,
          17,
          18,
          19,
          20,
          21,
          22,
          23,
          24,
          25,
          26,
          27,
          28,
          29,
          30,
          31,
          32,
          33,
          34,
          35,
          36,
          37,
          38,
          39,
          40,
          41,
          42,
          43,
          44,
          45,
          46,
          47,
          48,
          49
         ],
         "xaxis": "x",
         "y": [
          19.2,
          26.1504,
          48.51014261760001,
          122.56426754061943,
          421.76671634227785,
          1976.7777418893584,
          12618.870626316086,
          109713.54320608405,
          1299203.2594730763,
          20954199.270724107,
          460301240.6247427,
          13771788003.922623,
          561197360452.5342,
          31147128758289.914,
          2354493654137199.5,
          242412012964487330,
          33992872016255635000,
          6.492301617448284e+21,
          1.6888326802790944e+24,
          5.983450028099212e+26,
          2.887312691339761e+29,
          1.8976367348821326e+32,
          1.6986716771504717e+35,
          2.0710134524045027e+38,
          3.439010499365367e+41,
          7.777879153696986e+44,
          2.3958851082194526e+48,
          1.0051893827147892e+52,
          5.743900456811249e+55,
          4.470365415729255e+59,
          4.7386676685571034e+63,
          6.841425259388009e+67,
          1.3452841618472931e+72,
          3.6029528541426885e+76,
          1.3142568125040662e+81,
          6.52948610571914e+85,
          4.41829668293462e+90,
          4.072000804861927e+95,
          5.111377337529188e+100,
          8.738665960937911e+105,
          2.0348361366009686e+111,
          6.453433694851624e+116,
          2.7875930336528134e+122,
          1.640004336174196e+128,
          1.314128184083062e+134,
          1.434192908153713e+140,
          2.131839570548585e+146,
          4.315971570431799e+152,
          1.1900898164808723e+159,
          4.469490414891678e+165
         ],
         "yaxis": "y"
        }
       ],
       "layout": {
        "legend": {
         "title": {
          "text": "variable"
         },
         "tracegroupgap": 0
        },
        "margin": {
         "t": 60
        },
        "template": {
         "data": {
          "bar": [
           {
            "error_x": {
             "color": "#2a3f5f"
            },
            "error_y": {
             "color": "#2a3f5f"
            },
            "marker": {
             "line": {
              "color": "#E5ECF6",
              "width": 0.5
             },
             "pattern": {
              "fillmode": "overlay",
              "size": 10,
              "solidity": 0.2
             }
            },
            "type": "bar"
           }
          ],
          "barpolar": [
           {
            "marker": {
             "line": {
              "color": "#E5ECF6",
              "width": 0.5
             },
             "pattern": {
              "fillmode": "overlay",
              "size": 10,
              "solidity": 0.2
             }
            },
            "type": "barpolar"
           }
          ],
          "carpet": [
           {
            "aaxis": {
             "endlinecolor": "#2a3f5f",
             "gridcolor": "white",
             "linecolor": "white",
             "minorgridcolor": "white",
             "startlinecolor": "#2a3f5f"
            },
            "baxis": {
             "endlinecolor": "#2a3f5f",
             "gridcolor": "white",
             "linecolor": "white",
             "minorgridcolor": "white",
             "startlinecolor": "#2a3f5f"
            },
            "type": "carpet"
           }
          ],
          "choropleth": [
           {
            "colorbar": {
             "outlinewidth": 0,
             "ticks": ""
            },
            "type": "choropleth"
           }
          ],
          "contour": [
           {
            "colorbar": {
             "outlinewidth": 0,
             "ticks": ""
            },
            "colorscale": [
             [
              0,
              "#0d0887"
             ],
             [
              0.1111111111111111,
              "#46039f"
             ],
             [
              0.2222222222222222,
              "#7201a8"
             ],
             [
              0.3333333333333333,
              "#9c179e"
             ],
             [
              0.4444444444444444,
              "#bd3786"
             ],
             [
              0.5555555555555556,
              "#d8576b"
             ],
             [
              0.6666666666666666,
              "#ed7953"
             ],
             [
              0.7777777777777778,
              "#fb9f3a"
             ],
             [
              0.8888888888888888,
              "#fdca26"
             ],
             [
              1,
              "#f0f921"
             ]
            ],
            "type": "contour"
           }
          ],
          "contourcarpet": [
           {
            "colorbar": {
             "outlinewidth": 0,
             "ticks": ""
            },
            "type": "contourcarpet"
           }
          ],
          "heatmap": [
           {
            "colorbar": {
             "outlinewidth": 0,
             "ticks": ""
            },
            "colorscale": [
             [
              0,
              "#0d0887"
             ],
             [
              0.1111111111111111,
              "#46039f"
             ],
             [
              0.2222222222222222,
              "#7201a8"
             ],
             [
              0.3333333333333333,
              "#9c179e"
             ],
             [
              0.4444444444444444,
              "#bd3786"
             ],
             [
              0.5555555555555556,
              "#d8576b"
             ],
             [
              0.6666666666666666,
              "#ed7953"
             ],
             [
              0.7777777777777778,
              "#fb9f3a"
             ],
             [
              0.8888888888888888,
              "#fdca26"
             ],
             [
              1,
              "#f0f921"
             ]
            ],
            "type": "heatmap"
           }
          ],
          "heatmapgl": [
           {
            "colorbar": {
             "outlinewidth": 0,
             "ticks": ""
            },
            "colorscale": [
             [
              0,
              "#0d0887"
             ],
             [
              0.1111111111111111,
              "#46039f"
             ],
             [
              0.2222222222222222,
              "#7201a8"
             ],
             [
              0.3333333333333333,
              "#9c179e"
             ],
             [
              0.4444444444444444,
              "#bd3786"
             ],
             [
              0.5555555555555556,
              "#d8576b"
             ],
             [
              0.6666666666666666,
              "#ed7953"
             ],
             [
              0.7777777777777778,
              "#fb9f3a"
             ],
             [
              0.8888888888888888,
              "#fdca26"
             ],
             [
              1,
              "#f0f921"
             ]
            ],
            "type": "heatmapgl"
           }
          ],
          "histogram": [
           {
            "marker": {
             "pattern": {
              "fillmode": "overlay",
              "size": 10,
              "solidity": 0.2
             }
            },
            "type": "histogram"
           }
          ],
          "histogram2d": [
           {
            "colorbar": {
             "outlinewidth": 0,
             "ticks": ""
            },
            "colorscale": [
             [
              0,
              "#0d0887"
             ],
             [
              0.1111111111111111,
              "#46039f"
             ],
             [
              0.2222222222222222,
              "#7201a8"
             ],
             [
              0.3333333333333333,
              "#9c179e"
             ],
             [
              0.4444444444444444,
              "#bd3786"
             ],
             [
              0.5555555555555556,
              "#d8576b"
             ],
             [
              0.6666666666666666,
              "#ed7953"
             ],
             [
              0.7777777777777778,
              "#fb9f3a"
             ],
             [
              0.8888888888888888,
              "#fdca26"
             ],
             [
              1,
              "#f0f921"
             ]
            ],
            "type": "histogram2d"
           }
          ],
          "histogram2dcontour": [
           {
            "colorbar": {
             "outlinewidth": 0,
             "ticks": ""
            },
            "colorscale": [
             [
              0,
              "#0d0887"
             ],
             [
              0.1111111111111111,
              "#46039f"
             ],
             [
              0.2222222222222222,
              "#7201a8"
             ],
             [
              0.3333333333333333,
              "#9c179e"
             ],
             [
              0.4444444444444444,
              "#bd3786"
             ],
             [
              0.5555555555555556,
              "#d8576b"
             ],
             [
              0.6666666666666666,
              "#ed7953"
             ],
             [
              0.7777777777777778,
              "#fb9f3a"
             ],
             [
              0.8888888888888888,
              "#fdca26"
             ],
             [
              1,
              "#f0f921"
             ]
            ],
            "type": "histogram2dcontour"
           }
          ],
          "mesh3d": [
           {
            "colorbar": {
             "outlinewidth": 0,
             "ticks": ""
            },
            "type": "mesh3d"
           }
          ],
          "parcoords": [
           {
            "line": {
             "colorbar": {
              "outlinewidth": 0,
              "ticks": ""
             }
            },
            "type": "parcoords"
           }
          ],
          "pie": [
           {
            "automargin": true,
            "type": "pie"
           }
          ],
          "scatter": [
           {
            "fillpattern": {
             "fillmode": "overlay",
             "size": 10,
             "solidity": 0.2
            },
            "type": "scatter"
           }
          ],
          "scatter3d": [
           {
            "line": {
             "colorbar": {
              "outlinewidth": 0,
              "ticks": ""
             }
            },
            "marker": {
             "colorbar": {
              "outlinewidth": 0,
              "ticks": ""
             }
            },
            "type": "scatter3d"
           }
          ],
          "scattercarpet": [
           {
            "marker": {
             "colorbar": {
              "outlinewidth": 0,
              "ticks": ""
             }
            },
            "type": "scattercarpet"
           }
          ],
          "scattergeo": [
           {
            "marker": {
             "colorbar": {
              "outlinewidth": 0,
              "ticks": ""
             }
            },
            "type": "scattergeo"
           }
          ],
          "scattergl": [
           {
            "marker": {
             "colorbar": {
              "outlinewidth": 0,
              "ticks": ""
             }
            },
            "type": "scattergl"
           }
          ],
          "scattermapbox": [
           {
            "marker": {
             "colorbar": {
              "outlinewidth": 0,
              "ticks": ""
             }
            },
            "type": "scattermapbox"
           }
          ],
          "scatterpolar": [
           {
            "marker": {
             "colorbar": {
              "outlinewidth": 0,
              "ticks": ""
             }
            },
            "type": "scatterpolar"
           }
          ],
          "scatterpolargl": [
           {
            "marker": {
             "colorbar": {
              "outlinewidth": 0,
              "ticks": ""
             }
            },
            "type": "scatterpolargl"
           }
          ],
          "scatterternary": [
           {
            "marker": {
             "colorbar": {
              "outlinewidth": 0,
              "ticks": ""
             }
            },
            "type": "scatterternary"
           }
          ],
          "surface": [
           {
            "colorbar": {
             "outlinewidth": 0,
             "ticks": ""
            },
            "colorscale": [
             [
              0,
              "#0d0887"
             ],
             [
              0.1111111111111111,
              "#46039f"
             ],
             [
              0.2222222222222222,
              "#7201a8"
             ],
             [
              0.3333333333333333,
              "#9c179e"
             ],
             [
              0.4444444444444444,
              "#bd3786"
             ],
             [
              0.5555555555555556,
              "#d8576b"
             ],
             [
              0.6666666666666666,
              "#ed7953"
             ],
             [
              0.7777777777777778,
              "#fb9f3a"
             ],
             [
              0.8888888888888888,
              "#fdca26"
             ],
             [
              1,
              "#f0f921"
             ]
            ],
            "type": "surface"
           }
          ],
          "table": [
           {
            "cells": {
             "fill": {
              "color": "#EBF0F8"
             },
             "line": {
              "color": "white"
             }
            },
            "header": {
             "fill": {
              "color": "#C8D4E3"
             },
             "line": {
              "color": "white"
             }
            },
            "type": "table"
           }
          ]
         },
         "layout": {
          "annotationdefaults": {
           "arrowcolor": "#2a3f5f",
           "arrowhead": 0,
           "arrowwidth": 1
          },
          "autotypenumbers": "strict",
          "coloraxis": {
           "colorbar": {
            "outlinewidth": 0,
            "ticks": ""
           }
          },
          "colorscale": {
           "diverging": [
            [
             0,
             "#8e0152"
            ],
            [
             0.1,
             "#c51b7d"
            ],
            [
             0.2,
             "#de77ae"
            ],
            [
             0.3,
             "#f1b6da"
            ],
            [
             0.4,
             "#fde0ef"
            ],
            [
             0.5,
             "#f7f7f7"
            ],
            [
             0.6,
             "#e6f5d0"
            ],
            [
             0.7,
             "#b8e186"
            ],
            [
             0.8,
             "#7fbc41"
            ],
            [
             0.9,
             "#4d9221"
            ],
            [
             1,
             "#276419"
            ]
           ],
           "sequential": [
            [
             0,
             "#0d0887"
            ],
            [
             0.1111111111111111,
             "#46039f"
            ],
            [
             0.2222222222222222,
             "#7201a8"
            ],
            [
             0.3333333333333333,
             "#9c179e"
            ],
            [
             0.4444444444444444,
             "#bd3786"
            ],
            [
             0.5555555555555556,
             "#d8576b"
            ],
            [
             0.6666666666666666,
             "#ed7953"
            ],
            [
             0.7777777777777778,
             "#fb9f3a"
            ],
            [
             0.8888888888888888,
             "#fdca26"
            ],
            [
             1,
             "#f0f921"
            ]
           ],
           "sequentialminus": [
            [
             0,
             "#0d0887"
            ],
            [
             0.1111111111111111,
             "#46039f"
            ],
            [
             0.2222222222222222,
             "#7201a8"
            ],
            [
             0.3333333333333333,
             "#9c179e"
            ],
            [
             0.4444444444444444,
             "#bd3786"
            ],
            [
             0.5555555555555556,
             "#d8576b"
            ],
            [
             0.6666666666666666,
             "#ed7953"
            ],
            [
             0.7777777777777778,
             "#fb9f3a"
            ],
            [
             0.8888888888888888,
             "#fdca26"
            ],
            [
             1,
             "#f0f921"
            ]
           ]
          },
          "colorway": [
           "#636efa",
           "#EF553B",
           "#00cc96",
           "#ab63fa",
           "#FFA15A",
           "#19d3f3",
           "#FF6692",
           "#B6E880",
           "#FF97FF",
           "#FECB52"
          ],
          "font": {
           "color": "#2a3f5f"
          },
          "geo": {
           "bgcolor": "white",
           "lakecolor": "white",
           "landcolor": "#E5ECF6",
           "showlakes": true,
           "showland": true,
           "subunitcolor": "white"
          },
          "hoverlabel": {
           "align": "left"
          },
          "hovermode": "closest",
          "mapbox": {
           "style": "light"
          },
          "paper_bgcolor": "white",
          "plot_bgcolor": "#E5ECF6",
          "polar": {
           "angularaxis": {
            "gridcolor": "white",
            "linecolor": "white",
            "ticks": ""
           },
           "bgcolor": "#E5ECF6",
           "radialaxis": {
            "gridcolor": "white",
            "linecolor": "white",
            "ticks": ""
           }
          },
          "scene": {
           "xaxis": {
            "backgroundcolor": "#E5ECF6",
            "gridcolor": "white",
            "gridwidth": 2,
            "linecolor": "white",
            "showbackground": true,
            "ticks": "",
            "zerolinecolor": "white"
           },
           "yaxis": {
            "backgroundcolor": "#E5ECF6",
            "gridcolor": "white",
            "gridwidth": 2,
            "linecolor": "white",
            "showbackground": true,
            "ticks": "",
            "zerolinecolor": "white"
           },
           "zaxis": {
            "backgroundcolor": "#E5ECF6",
            "gridcolor": "white",
            "gridwidth": 2,
            "linecolor": "white",
            "showbackground": true,
            "ticks": "",
            "zerolinecolor": "white"
           }
          },
          "shapedefaults": {
           "line": {
            "color": "#2a3f5f"
           }
          },
          "ternary": {
           "aaxis": {
            "gridcolor": "white",
            "linecolor": "white",
            "ticks": ""
           },
           "baxis": {
            "gridcolor": "white",
            "linecolor": "white",
            "ticks": ""
           },
           "bgcolor": "#E5ECF6",
           "caxis": {
            "gridcolor": "white",
            "linecolor": "white",
            "ticks": ""
           }
          },
          "title": {
           "x": 0.05
          },
          "xaxis": {
           "automargin": true,
           "gridcolor": "white",
           "linecolor": "white",
           "ticks": "",
           "title": {
            "standoff": 15
           },
           "zerolinecolor": "white",
           "zerolinewidth": 2
          },
          "yaxis": {
           "automargin": true,
           "gridcolor": "white",
           "linecolor": "white",
           "ticks": "",
           "title": {
            "standoff": 15
           },
           "zerolinecolor": "white",
           "zerolinewidth": 2
          }
         }
        },
        "xaxis": {
         "anchor": "y",
         "domain": [
          0,
          1
         ],
         "title": {
          "text": "Year"
         }
        },
        "yaxis": {
         "anchor": "x",
         "domain": [
          0,
          1
         ],
         "title": {
          "text": "value"
         }
        }
       }
      }
     },
     "metadata": {},
     "output_type": "display_data"
    }
   ],
   "source": [
    "fig = px.line(df, x='Year', y=df.columns[1:])\n",
    "fig.show()"
   ]
  }
 ],
 "metadata": {
  "kernelspec": {
   "display_name": "Python 3",
   "language": "python",
   "name": "python3"
  },
  "language_info": {
   "codemirror_mode": {
    "name": "ipython",
    "version": 3
   },
   "file_extension": ".py",
   "mimetype": "text/x-python",
   "name": "python",
   "nbconvert_exporter": "python",
   "pygments_lexer": "ipython3",
   "version": "3.10.12"
  }
 },
 "nbformat": 4,
 "nbformat_minor": 2
}
